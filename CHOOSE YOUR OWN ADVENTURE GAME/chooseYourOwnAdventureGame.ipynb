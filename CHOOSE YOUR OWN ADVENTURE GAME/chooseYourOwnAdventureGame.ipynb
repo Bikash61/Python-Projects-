{
 "cells": [
  {
   "cell_type": "code",
   "execution_count": 2,
   "id": "de0f30b3-9679-48fd-877a-96fd06af3110",
   "metadata": {},
   "outputs": [
    {
     "name": "stdin",
     "output_type": "stream",
     "text": [
      "Type your name:  Bikash Bashyal\n"
     ]
    },
    {
     "name": "stdout",
     "output_type": "stream",
     "text": [
      "Welcome Bikash Bashyal to this adventure\n"
     ]
    },
    {
     "name": "stdin",
     "output_type": "stream",
     "text": [
      "You are on a dirt road you came to an end, Now you can go left or right! Kindly chosse one  left\n"
     ]
    },
    {
     "name": "stdout",
     "output_type": "stream",
     "text": [
      "You come to a river and now you can walk to bridge!!\n"
     ]
    },
    {
     "name": "stdin",
     "output_type": "stream",
     "text": [
      "Tell us now where you want to go? left\n"
     ]
    },
    {
     "name": "stdout",
     "output_type": "stream",
     "text": [
      "Now you came in a canal\n"
     ]
    },
    {
     "name": "stdin",
     "output_type": "stream",
     "text": [
      "Tell us now where you want to go? right\n"
     ]
    },
    {
     "name": "stdout",
     "output_type": "stream",
     "text": [
      "Finally You are on your home\n",
      "Now you came to school\n"
     ]
    },
    {
     "name": "stdin",
     "output_type": "stream",
     "text": [
      "Tell us now where you want to go? right\n"
     ]
    },
    {
     "name": "stdout",
     "output_type": "stream",
     "text": [
      "Finally ! Now you are on a Park\n"
     ]
    }
   ],
   "source": [
    "name = input(\"Type your name: \")\n",
    "print(\"Welcome\", name,\"to this adventure\")\n",
    "\n",
    "answer = input(\"You are on a dirt road you came to an end, Now you can go left or right! Kindly chosse one \").lower()\n",
    "\n",
    "\n",
    "if answer == 'left':\n",
    "    print(\"You come to a river and now you can walk to bridge!!\")\n",
    "    answer = input(\"Tell us now where you want to go?\")\n",
    "\n",
    "    if answer == 'left':\n",
    "        print (\"Now you came in a canal\")\n",
    "        answer = input(\"Tell us now where you want to go?\").lower()\n",
    "        if answer == 'left':\n",
    "            print(\"Now you are on a road\")\n",
    "            answer = input(\"Tell us now where you want to go?\").lower()\n",
    "        elif answer == 'right':\n",
    "            print(\"Finally You are on your home\")\n",
    "    \n",
    "\n",
    "    \n",
    "    if answer == 'right':\n",
    "        print(\"Now you came to school\")\n",
    "        answer = input(\"Tell us now where you want to go?\").lower()\n",
    "        \n",
    "        if answer == 'left':\n",
    "            print(\"Now you are in a forest\")\n",
    "            answer = input(\"Tell us now where you want to go?\").lower()\n",
    "        elif answer == 'right':\n",
    "            print(\"Finally ! Now you are on a Park\")\n",
    "            \n",
    "\n",
    "\n",
    "\n",
    "elif answer == 'right':\n",
    "    print( \"you come to the bridge\")\n",
    "    answer = input( \"Tell us where you want to go left or right\").lower()\n",
    "    \n",
    "    if answer == 'right':\n",
    "        print (\"Now you came in a canal\")\n",
    "        answer = input(\"Tell us now where you want to go?\").lower()\n",
    "        if answer == 'right':\n",
    "            print(\"Now you are on a road\")\n",
    "            answer = input(\"Tell us now where you want to go?\").lower()\n",
    "        elif answer == 'left':\n",
    "            print(\"Finally ! Now you are in a highway\")\n",
    "            \n",
    "\n",
    "    \n",
    "    if answer == 'left':\n",
    "        print(\"Now you came to school\")\n",
    "        answer = input(\"Tell us now where you want to go?\").lower()\n",
    "        \n",
    "        if answer == 'right':\n",
    "            print(\"Now you are in a forest\")\n",
    "            answer = input(\"Tell us now where you want to go?\").lower()\n",
    "        elif answer == 'left':\n",
    "            print(\" Finally ! Now you are on a School\")\n",
    "            \n",
    "            \n",
    "     \n",
    "        \n",
    "else:\n",
    "    print(\"Thank you\")\n",
    "    \n",
    "    "
   ]
  },
  {
   "cell_type": "code",
   "execution_count": null,
   "id": "f1bb47ac-07bd-4c68-a645-a4f39007337d",
   "metadata": {},
   "outputs": [],
   "source": []
  }
 ],
 "metadata": {
  "kernelspec": {
   "display_name": "Python 3 (ipykernel)",
   "language": "python",
   "name": "python3"
  },
  "language_info": {
   "codemirror_mode": {
    "name": "ipython",
    "version": 3
   },
   "file_extension": ".py",
   "mimetype": "text/x-python",
   "name": "python",
   "nbconvert_exporter": "python",
   "pygments_lexer": "ipython3",
   "version": "3.11.5"
  }
 },
 "nbformat": 4,
 "nbformat_minor": 5
}
