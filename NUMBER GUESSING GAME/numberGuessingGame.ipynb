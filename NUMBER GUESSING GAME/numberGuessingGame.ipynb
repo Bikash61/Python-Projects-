{
 "cells": [
  {
   "cell_type": "code",
   "execution_count": 1,
   "id": "8ebd57f5-1dcb-40fe-9827-136d2430e162",
   "metadata": {},
   "outputs": [
    {
     "name": "stdin",
     "output_type": "stream",
     "text": [
      "Enter the top value  100\n",
      "Enter the guess number 12\n"
     ]
    },
    {
     "name": "stdout",
     "output_type": "stream",
     "text": [
      "You are wrong kindly try next \n",
      "The right number was 89 and your number was 12\n"
     ]
    }
   ],
   "source": [
    "import random \n",
    "\n",
    "top_of_range = input(\"Enter the top value \")\n",
    "\n",
    "if top_of_range.isdigit():\n",
    "    top_of_range = int(top_of_range)\n",
    "    if top_of_range <=0:\n",
    "        print(\"Please type the number greater than 0 next time\")\n",
    "        quit()\n",
    "else:\n",
    "    print(\"Type a number next time\")\n",
    "    quit()\n",
    "random_number = random.randint(0,top_of_range)\n",
    "\n",
    "\n",
    "while True:\n",
    "    user_guess = input(\"Enter the guess number\")\n",
    "    if user_guess.isdigit():\n",
    "        user_guess = int(user_guess)\n",
    "        break\n",
    "    else:\n",
    "        print(\"Print digit next time\")\n",
    "score = 0\n",
    "\n",
    "if user_guess == random_number:\n",
    "    print(\"You got the right one\")\n",
    "    score+=1\n",
    "else:\n",
    "    print(\"You are wrong kindly try next \")\n",
    "\n",
    "print(\"The right number was\", random_number , \"and your number was\", user_guess)\n",
    "    "
   ]
  },
  {
   "cell_type": "code",
   "execution_count": null,
   "id": "21b26ae3-ed2a-4ac7-8c4d-40b2773c8ea3",
   "metadata": {},
   "outputs": [],
   "source": [
    "print(\"Hello world\")"
   ]
  },
  {
   "cell_type": "code",
   "execution_count": null,
   "id": "75de13da-b4fc-489c-8b67-5df2f7089409",
   "metadata": {},
   "outputs": [],
   "source": []
  }
 ],
 "metadata": {
  "kernelspec": {
   "display_name": "Python 3 (ipykernel)",
   "language": "python",
   "name": "python3"
  },
  "language_info": {
   "codemirror_mode": {
    "name": "ipython",
    "version": 3
   },
   "file_extension": ".py",
   "mimetype": "text/x-python",
   "name": "python",
   "nbconvert_exporter": "python",
   "pygments_lexer": "ipython3",
   "version": "3.11.5"
  }
 },
 "nbformat": 4,
 "nbformat_minor": 5
}
