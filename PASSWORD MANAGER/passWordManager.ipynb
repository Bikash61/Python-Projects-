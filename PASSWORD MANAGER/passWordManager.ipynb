{
 "cells": [
  {
   "cell_type": "code",
   "execution_count": 3,
   "id": "5eeb4a6d-7e3d-41c6-839d-51cfd0edc497",
   "metadata": {},
   "outputs": [
    {
     "name": "stdin",
     "output_type": "stream",
     "text": [
      "What is the master password ?  a\n",
      "Would you like to add a new password or want to view wxisting password(view, add)? add\n"
     ]
    },
    {
     "ename": "NameError",
     "evalue": "name 'view' is not defined",
     "output_type": "error",
     "traceback": [
      "\u001b[1;31m---------------------------------------------------------------------------\u001b[0m",
      "\u001b[1;31mNameError\u001b[0m                                 Traceback (most recent call last)",
      "Cell \u001b[1;32mIn[3], line 5\u001b[0m\n\u001b[0;32m      2\u001b[0m mod \u001b[38;5;241m=\u001b[39m \u001b[38;5;28minput\u001b[39m(\u001b[38;5;124m\"\u001b[39m\u001b[38;5;124mWould you like to add a new password or want to view wxisting password(view, add)?\u001b[39m\u001b[38;5;124m\"\u001b[39m)\n\u001b[0;32m      4\u001b[0m \u001b[38;5;28;01mwhile\u001b[39;00m \u001b[38;5;28;01mTrue\u001b[39;00m:\n\u001b[1;32m----> 5\u001b[0m     \u001b[38;5;28;01mif\u001b[39;00m mod \u001b[38;5;241m==\u001b[39m view:\n\u001b[0;32m      6\u001b[0m         \u001b[38;5;28mprint\u001b[39m()\n\u001b[0;32m      7\u001b[0m     \u001b[38;5;28;01melif\u001b[39;00m mod \u001b[38;5;241m==\u001b[39m add:\n",
      "\u001b[1;31mNameError\u001b[0m: name 'view' is not defined"
     ]
    }
   ],
   "source": [
    "pwd = input(\"What is the master password ? \")\n",
    "mod = input(\"Would you like to add a new password or want to view wxisting password(view, add)?\")\n",
    "\n",
    "while True:\n",
    "    if mod == 'view':\n",
    "        print()\n",
    "    elif mod == 'a':\n",
    "        print()\n",
    "    else:\n",
    "        print(\"Invalid mode\")\n",
    "\n",
    "    \n"
   ]
  },
  {
   "cell_type": "code",
   "execution_count": null,
   "id": "70aa358a-c8b8-4f2f-9c1a-84fa956c7c77",
   "metadata": {},
   "outputs": [],
   "source": []
  }
 ],
 "metadata": {
  "kernelspec": {
   "display_name": "Python 3 (ipykernel)",
   "language": "python",
   "name": "python3"
  },
  "language_info": {
   "codemirror_mode": {
    "name": "ipython",
    "version": 3
   },
   "file_extension": ".py",
   "mimetype": "text/x-python",
   "name": "python",
   "nbconvert_exporter": "python",
   "pygments_lexer": "ipython3",
   "version": "3.11.5"
  }
 },
 "nbformat": 4,
 "nbformat_minor": 5
}
