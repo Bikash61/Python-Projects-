{
 "cells": [
  {
   "cell_type": "code",
   "execution_count": 1,
   "id": "4b0683db-87c4-4efa-b123-d97341a25892",
   "metadata": {},
   "outputs": [
    {
     "name": "stdout",
     "output_type": "stream",
     "text": [
      "Requirement already satisfied: qrcode in c:\\users\\lenovo\\anaconda3\\lib\\site-packages (7.4.2)\n",
      "Requirement already satisfied: typing-extensions in c:\\users\\lenovo\\anaconda3\\lib\\site-packages (from qrcode) (4.7.1)\n",
      "Requirement already satisfied: pypng in c:\\users\\lenovo\\anaconda3\\lib\\site-packages (from qrcode) (0.20220715.0)\n",
      "Requirement already satisfied: colorama in c:\\users\\lenovo\\anaconda3\\lib\\site-packages (from qrcode) (0.4.6)\n"
     ]
    }
   ],
   "source": [
    "! pip install qrcode"
   ]
  },
  {
   "cell_type": "code",
   "execution_count": 4,
   "id": "38dc63ea-d063-4f7f-bf08-a434ac9df37f",
   "metadata": {},
   "outputs": [],
   "source": [
    "import qrcode as qr\n",
    "img = qr.make(\"https://alphaintern.in/\")\n",
    "img.save(\"Alpha_Intern.png\")\n"
   ]
  },
  {
   "cell_type": "code",
   "execution_count": null,
   "id": "242746a4-8dad-4d07-b7cc-22565a1ef182",
   "metadata": {},
   "outputs": [],
   "source": []
  }
 ],
 "metadata": {
  "kernelspec": {
   "display_name": "Python 3 (ipykernel)",
   "language": "python",
   "name": "python3"
  },
  "language_info": {
   "codemirror_mode": {
    "name": "ipython",
    "version": 3
   },
   "file_extension": ".py",
   "mimetype": "text/x-python",
   "name": "python",
   "nbconvert_exporter": "python",
   "pygments_lexer": "ipython3",
   "version": "3.11.5"
  }
 },
 "nbformat": 4,
 "nbformat_minor": 5
}
