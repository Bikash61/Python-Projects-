{
 "cells": [
  {
   "cell_type": "code",
   "execution_count": 1,
   "id": "c7309907-eef3-454d-a54e-1789058448fa",
   "metadata": {},
   "outputs": [
    {
     "name": "stdout",
     "output_type": "stream",
     "text": [
      "-----Welcome to my computer Quiz -----\n"
     ]
    },
    {
     "name": "stdin",
     "output_type": "stream",
     "text": [
      "Do you want to play ? yes\n"
     ]
    },
    {
     "name": "stdout",
     "output_type": "stream",
     "text": [
      "Okay\n"
     ]
    },
    {
     "name": "stdin",
     "output_type": "stream",
     "text": [
      "What does CPU stands for?  centeral processing unit\n"
     ]
    },
    {
     "name": "stdout",
     "output_type": "stream",
     "text": [
      "It is correct\n"
     ]
    }
   ],
   "source": [
    "print(\"-----Welcome to my computer Quiz -----\")\n",
    "\n",
    "playing = input(\"Do you want to play ?\")\n",
    "if playing != \"yes\" or 'yes':\n",
    "    print(\"Okay\")\n",
    "else:\n",
    "    print(\"You are on a wrong way\")\n",
    "\n",
    "answer = input(\"What does CPU stands for? \")\n",
    "if answer == \"centeral processing unit\":\n",
    "    print(\"It is correct\")\n",
    "else:\n",
    "    print(\"It is incorrect\")\n"
   ]
  },
  {
   "cell_type": "code",
   "execution_count": 1,
   "id": "e26ff8b5-8081-4ffc-933a-b16f277d83ca",
   "metadata": {},
   "outputs": [
    {
     "name": "stdout",
     "output_type": "stream",
     "text": [
      "Hello world\n"
     ]
    }
   ],
   "source": [
    "print(\"Hello world\")"
   ]
  },
  {
   "cell_type": "code",
   "execution_count": 1,
   "id": "f129c403-05f9-4f29-8bd6-edf327b5c554",
   "metadata": {},
   "outputs": [],
   "source": [
    "quit()"
   ]
  },
  {
   "cell_type": "code",
   "execution_count": null,
   "id": "2079ef06-9bdd-4ad2-bf31-270cfa6f9561",
   "metadata": {},
   "outputs": [],
   "source": []
  }
 ],
 "metadata": {
  "kernelspec": {
   "display_name": "Python 3 (ipykernel)",
   "language": "python",
   "name": "python3"
  },
  "language_info": {
   "codemirror_mode": {
    "name": "ipython",
    "version": 3
   },
   "file_extension": ".py",
   "mimetype": "text/x-python",
   "name": "python",
   "nbconvert_exporter": "python",
   "pygments_lexer": "ipython3",
   "version": "3.11.5"
  }
 },
 "nbformat": 4,
 "nbformat_minor": 5
}
