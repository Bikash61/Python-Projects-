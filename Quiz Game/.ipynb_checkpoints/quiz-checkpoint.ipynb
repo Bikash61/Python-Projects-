{
 "cells": [
  {
   "cell_type": "code",
   "execution_count": 5,
   "id": "c7309907-eef3-454d-a54e-1789058448fa",
   "metadata": {},
   "outputs": [
    {
     "name": "stdout",
     "output_type": "stream",
     "text": [
      "-----Welcome to my computer Quiz -----\n"
     ]
    },
    {
     "name": "stdin",
     "output_type": "stream",
     "text": [
      "Do you want to play ? n\n"
     ]
    }
   ],
   "source": [
    "print(\"-----Welcome to my computer Quiz -----\")\n",
    "\n",
    "playing = input(\"Do you want to play ?\")\n",
    "if playing != \"yes\" or 'yes':\n",
    "    quit()\n",
    "\n"
   ]
  },
  {
   "cell_type": "code",
   "execution_count": null,
   "id": "e26ff8b5-8081-4ffc-933a-b16f277d83ca",
   "metadata": {},
   "outputs": [],
   "source": []
  }
 ],
 "metadata": {
  "kernelspec": {
   "display_name": "Python 3 (ipykernel)",
   "language": "python",
   "name": "python3"
  },
  "language_info": {
   "codemirror_mode": {
    "name": "ipython",
    "version": 3
   },
   "file_extension": ".py",
   "mimetype": "text/x-python",
   "name": "python",
   "nbconvert_exporter": "python",
   "pygments_lexer": "ipython3",
   "version": "3.11.5"
  }
 },
 "nbformat": 4,
 "nbformat_minor": 5
}
