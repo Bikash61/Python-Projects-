{
 "cells": [
  {
   "cell_type": "code",
   "execution_count": 6,
   "id": "c7309907-eef3-454d-a54e-1789058448fa",
   "metadata": {},
   "outputs": [
    {
     "name": "stdout",
     "output_type": "stream",
     "text": [
      "-----Welcome to my computer Quiz -----\n"
     ]
    },
    {
     "name": "stdout",
     "output_type": "stream",
     "text": [
      "Do you want to play ? yes\n"
     ]
    },
    {
     "name": "stdout",
     "output_type": "stream",
     "text": [
      "Okay\n"
     ]
    },
    {
     "name": "stdout",
     "output_type": "stream",
     "text": [
      "What does CPU stands for?  centeral process unit\n"
     ]
    },
    {
     "name": "stdout",
     "output_type": "stream",
     "text": [
      "It is incorrect\n"
     ]
    },
    {
     "name": "stdout",
     "output_type": "stream",
     "text": [
      "What does RAM stands for?  random acess unit\n"
     ]
    },
    {
     "name": "stdout",
     "output_type": "stream",
     "text": [
      "It is incorrect\n"
     ]
    },
    {
     "name": "stdout",
     "output_type": "stream",
     "text": [
      "What does ROM stands for?  read only memory \n"
     ]
    },
    {
     "name": "stdout",
     "output_type": "stream",
     "text": [
      "It is incorrect\n"
     ]
    },
    {
     "name": "stdout",
     "output_type": "stream",
     "text": [
      "What does ATM?  automatic tailor machine\n"
     ]
    },
    {
     "name": "stdout",
     "output_type": "stream",
     "text": [
      "It is correct\n",
      "You got 1 out of 4 , Kindly work hard\n"
     ]
    }
   ],
   "source": [
    "print(\"-----Welcome to my computer Quiz -----\")\n",
    "\n",
    "playing = input(\"Do you want to play ?\")\n",
    "\n",
    "score =0\n",
    "if playing != \"yes\" or 'yes':\n",
    "    quit()\n",
    "    print(\"Okay\")\n",
    "else:\n",
    "    print(\"You are on a wrong way\")\n",
    "\n",
    "answer = input(\"What does CPU stands for? \")\n",
    "if answer.lower() == \"centeral processing unit\":\n",
    "    print(\"It is correct\")\n",
    "    score+=1\n",
    "else:\n",
    "    print(\"It is incorrect\")\n",
    "\n",
    "answer = input(\"What does RAM stands for? \")\n",
    "if answer.lower() == \"random acess memory\":\n",
    "    print(\"It is correct\")\n",
    "    score+=1\n",
    "else:\n",
    "    print(\"It is incorrect\")\n",
    "\n",
    "answer = input(\"What does ROM stands for? \")\n",
    "if answer.lower() == \"read only memory\":\n",
    "    print(\"It is correct\")\n",
    "    score+=1\n",
    "else:\n",
    "    print(\"It is incorrect\")\n",
    "\n",
    "\n",
    "answer = input(\"What does ATM? \")\n",
    "if answer.lower() == \"automatic tailor machine\":\n",
    "    print(\"It is correct\")\n",
    "    score+=1\n",
    "else:\n",
    "    print(\"It is incorrect\")\n",
    "\n",
    "if (score >2):\n",
    "    print(\" Congrats , You got\", score, \"out of 4\")\n",
    "else:\n",
    "    print(\"You got\", score, \"out of 4 , Kindly work hard\")\n"
   ]
  },
  {
   "cell_type": "code",
   "execution_count": 1,
   "id": "e26ff8b5-8081-4ffc-933a-b16f277d83ca",
   "metadata": {},
   "outputs": [
    {
     "name": "stdout",
     "output_type": "stream",
     "text": [
      "Hello world\n"
     ]
    }
   ],
   "source": [
    "print(\"Hello world\")"
   ]
  },
  {
   "cell_type": "code",
   "execution_count": 1,
   "id": "f129c403-05f9-4f29-8bd6-edf327b5c554",
   "metadata": {},
   "outputs": [],
   "source": [
    "quit()"
   ]
  },
  {
   "cell_type": "code",
   "execution_count": null,
   "id": "2079ef06-9bdd-4ad2-bf31-270cfa6f9561",
   "metadata": {},
   "outputs": [],
   "source": []
  }
 ],
 "metadata": {
  "kernelspec": {
   "display_name": "Python 3 (ipykernel)",
   "language": "python",
   "name": "python3"
  },
  "language_info": {
   "codemirror_mode": {
    "name": "ipython",
    "version": 3
   },
   "file_extension": ".py",
   "mimetype": "text/x-python",
   "name": "python",
   "nbconvert_exporter": "python",
   "pygments_lexer": "ipython3",
   "version": "3.11.5"
  }
 },
 "nbformat": 4,
 "nbformat_minor": 5
}
