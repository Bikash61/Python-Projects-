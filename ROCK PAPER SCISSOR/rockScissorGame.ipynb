{
 "cells": [
  {
   "cell_type": "code",
   "execution_count": 29,
   "id": "780ec9c6-a86c-4322-a118-7ac8e78874f9",
   "metadata": {},
   "outputs": [
    {
     "name": "stdin",
     "output_type": "stream",
     "text": [
      "Enter any one Rock/Paper/Scisoor or q to quit:  as\n",
      "Enter any one Rock/Paper/Scisoor or q to quit:  q\n"
     ]
    },
    {
     "name": "stdout",
     "output_type": "stream",
     "text": [
      "The result is Computer score: 0 and user score is 0\n",
      "Thank you for your time\n"
     ]
    }
   ],
   "source": [
    "import random\n",
    "\n",
    "user_wins = 0\n",
    "computer_wins = 0\n",
    "\n",
    "options = ['rock', 'paper', 'scissor']\n",
    "\n",
    "while True:\n",
    "    user_input = input(\"Enter any one Rock/Paper/Scisoor or q to quit: \").lower()\n",
    "    if user_input == 'q':\n",
    "        break\n",
    "    if user_input not in options:\n",
    "        continue\n",
    "    random_number = random.randint(0,2)\n",
    "    computer_pick = options[random_number]\n",
    "    print(\"Computer Pick is \", computer_pick+'.')\n",
    "    if computer_pick == 'rock' and user_input == 'scissor':\n",
    "        print(\"Computer wins\")\n",
    "        computer_wins +=1\n",
    "    \n",
    "    elif (computer_pick == 'paper' and user_input == 'scissor'):\n",
    "        \n",
    "        print(\"User wins\")\n",
    "        user_wins +=1\n",
    "    \n",
    "    elif computer_pick == 'scissor' and user_input == 'scissor':\n",
    "        print(\"Game draw\")\n",
    "    elif computer_pick == 'rock' and user_input == 'paper':\n",
    "        print(\"User wins\")\n",
    "        user_wins += 1\n",
    "    elif computer_pick == 'paper' and user_input == 'paper':\n",
    "        print(\"Game Draw\")\n",
    "    elif computer_pick == 'scossor' and user_input == 'paper':\n",
    "        print(\"Computer Wins\")\n",
    "        computer_wins +=1\n",
    "    elif computer_pick == 'rock' and user_input == 'rock':\n",
    "        print(\"Game draw\")\n",
    "    elif  computer_pick == 'paper' and user_input == 'rock':\n",
    "        print(\"Computer Wins\")\n",
    "        computer_wins +=1\n",
    "    elif computer_pick == 'scissor' and user_input == 'rock':\n",
    "        print(\"User Wins\")\n",
    "        user_wins +=1\n",
    "    else:\n",
    "        print(\"Invalid\")\n",
    "    break\n",
    "print(\"The result is Computer score:\",  computer_wins, \"and user score is\", user_wins)\n",
    "print(\"Thank you for your time\")\n",
    "\n",
    "\n",
    "\n",
    "        \n",
    "\n",
    "\n",
    "\n",
    "    \n"
   ]
  },
  {
   "cell_type": "code",
   "execution_count": null,
   "id": "b8f9d9d5-bfac-4cde-9094-929b8b98be5c",
   "metadata": {},
   "outputs": [],
   "source": []
  }
 ],
 "metadata": {
  "kernelspec": {
   "display_name": "Python 3 (ipykernel)",
   "language": "python",
   "name": "python3"
  },
  "language_info": {
   "codemirror_mode": {
    "name": "ipython",
    "version": 3
   },
   "file_extension": ".py",
   "mimetype": "text/x-python",
   "name": "python",
   "nbconvert_exporter": "python",
   "pygments_lexer": "ipython3",
   "version": "3.11.5"
  }
 },
 "nbformat": 4,
 "nbformat_minor": 5
}
